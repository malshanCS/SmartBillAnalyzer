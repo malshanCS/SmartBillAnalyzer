{
 "cells": [
  {
   "cell_type": "code",
   "execution_count": null,
   "metadata": {},
   "outputs": [],
   "source": [
    "!pip install streamlit"
   ]
  },
  {
   "cell_type": "code",
   "execution_count": null,
   "metadata": {},
   "outputs": [],
   "source": [
    "import streamlit as st\n",
    "import os\n",
    "import subprocess\n",
    "import pandas as pd\n",
    "import matplotlib.pyplot as plt\n"
   ]
  },
  {
   "cell_type": "code",
   "execution_count": null,
   "metadata": {},
   "outputs": [],
   "source": [
    "img_path = \"../Data/Internet_bills_slt\"\n",
    "\n",
    "# Create a folder to store uploaded images\n",
    "os.makedirs(img_path, exist_ok=True)\n",
    "\n",
    "\n"
   ]
  },
  {
   "cell_type": "code",
   "execution_count": null,
   "metadata": {},
   "outputs": [],
   "source": [
    "\n",
    "# Upload an image\n",
    "st.title(\"Image Upload and Processing App\")\n",
    "uploaded_image = st.file_uploader(\"Upload an image\", type=[\"jpg\", \"png\", \"jpeg\"])\n"
   ]
  },
  {
   "cell_type": "code",
   "execution_count": null,
   "metadata": {},
   "outputs": [],
   "source": [
    "\n",
    "if uploaded_image:\n",
    "    # Save the uploaded image\n",
    "    image_path = os.path.join(img_path, uploaded_image.name)\n",
    "    with open(image_path, \"wb\") as f:\n",
    "        f.write(uploaded_image.read())\n",
    "    st.success(\"Image uploaded and saved!\")\n"
   ]
  },
  {
   "cell_type": "code",
   "execution_count": null,
   "metadata": {},
   "outputs": [],
   "source": [
    "\n",
    "# Process the image\n",
    "if st.button(\"Process\"):\n",
    "    try:\n",
    "        # Run the process.py script\n",
    "        subprocess.run([\"python\", \"../code/slt_extracted.ipynb\"])\n",
    "        st.success(\"Process done!\")\n",
    "    except Exception as e:\n",
    "        st.error(f\"Error during processing: {str(e)}\")\n"
   ]
  },
  {
   "cell_type": "code",
   "execution_count": null,
   "metadata": {},
   "outputs": [],
   "source": [
    "\n",
    "# Generate insights\n",
    "if st.button(\"Generate Insights\"):\n",
    "    \n",
    "    try:\n",
    "        # Read the uploaded CSV file\n",
    "        uploaded_csv = os.path.join(\"../files\", \"isp_data.csv\")\n",
    "        df = pd.read_csv(uploaded_csv)\n",
    "        # Perform data analysis and create a bar plot\n",
    "        st.bar_chart(df)\n",
    "    except Exception as e:\n",
    "        st.error(f\"Error generating insights: {str(e)}\")\n"
   ]
  },
  {
   "cell_type": "code",
   "execution_count": null,
   "metadata": {},
   "outputs": [],
   "source": []
  }
 ],
 "metadata": {
  "kernelspec": {
   "display_name": "dl",
   "language": "python",
   "name": "python3"
  },
  "language_info": {
   "codemirror_mode": {
    "name": "ipython",
    "version": 3
   },
   "file_extension": ".py",
   "mimetype": "text/x-python",
   "name": "python",
   "nbconvert_exporter": "python",
   "pygments_lexer": "ipython3",
   "version": "3.8.1"
  },
  "orig_nbformat": 4
 },
 "nbformat": 4,
 "nbformat_minor": 2
}
