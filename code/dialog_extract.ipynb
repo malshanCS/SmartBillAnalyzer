{
 "cells": [
  {
   "cell_type": "code",
   "execution_count": 11,
   "metadata": {},
   "outputs": [],
   "source": [
    "import cv2\n",
    "import numpy as np\n",
    "import matplotlib.pyplot as plt\n",
    "import pytesseract\n",
    "import nltk\n",
    "import pandas as pd\n",
    "import re\n",
    "from PIL import Image, ImageFilter\n",
    "from PIL import Image, ImageEnhance\n",
    "import os"
   ]
  },
  {
   "cell_type": "code",
   "execution_count": null,
   "metadata": {},
   "outputs": [],
   "source": [
    "# !pip install datefinder"
   ]
  },
  {
   "cell_type": "code",
   "execution_count": 2,
   "metadata": {},
   "outputs": [],
   "source": [
    "pytesseract.pytesseract.tesseract_cmd = r'C:\\Program Files\\Tesseract-OCR\\tesseract.exe'"
   ]
  },
  {
   "cell_type": "code",
   "execution_count": 12,
   "metadata": {},
   "outputs": [
    {
     "data": {
      "text/html": [
       "<div>\n",
       "<style scoped>\n",
       "    .dataframe tbody tr th:only-of-type {\n",
       "        vertical-align: middle;\n",
       "    }\n",
       "\n",
       "    .dataframe tbody tr th {\n",
       "        vertical-align: top;\n",
       "    }\n",
       "\n",
       "    .dataframe thead th {\n",
       "        text-align: right;\n",
       "    }\n",
       "</style>\n",
       "<table border=\"1\" class=\"dataframe\">\n",
       "  <thead>\n",
       "    <tr style=\"text-align: right;\">\n",
       "      <th></th>\n",
       "      <th>image_path</th>\n",
       "      <th>date</th>\n",
       "      <th>amount</th>\n",
       "    </tr>\n",
       "  </thead>\n",
       "  <tbody>\n",
       "  </tbody>\n",
       "</table>\n",
       "</div>"
      ],
      "text/plain": [
       "Empty DataFrame\n",
       "Columns: [image_path, date, amount]\n",
       "Index: []"
      ]
     },
     "execution_count": 12,
     "metadata": {},
     "output_type": "execute_result"
    }
   ],
   "source": []
  },
  {
   "cell_type": "code",
   "execution_count": 16,
   "metadata": {},
   "outputs": [
    {
     "name": "stdout",
     "output_type": "stream",
     "text": [
      "../Data/Internet_bills_dialog/Images\\1.png\n",
      "Date not found:  Payment information\n",
      "Date\n",
      "2021-1248 17:04:00\n",
      "\n",
      "Status\n",
      "Success\n",
      "\n",
      "Payment Method\n",
      "Credit Card\n",
      "\n",
      "========================================================================================================\n",
      "../Data/Internet_bills_dialog/Images\\10.png\n"
     ]
    },
    {
     "name": "stderr",
     "output_type": "stream",
     "text": [
      "C:\\Users\\User\\AppData\\Local\\Temp\\ipykernel_30328\\2620588473.py:130: FutureWarning: The frame.append method is deprecated and will be removed from pandas in a future version. Use pandas.concat instead.\n",
      "  df = df.append({'image_path': image_path, 'date': billing_date, 'amount': total_charges}, ignore_index=True)\n",
      "C:\\Users\\User\\AppData\\Local\\Temp\\ipykernel_30328\\2620588473.py:130: FutureWarning: The frame.append method is deprecated and will be removed from pandas in a future version. Use pandas.concat instead.\n",
      "  df = df.append({'image_path': image_path, 'date': billing_date, 'amount': total_charges}, ignore_index=True)\n"
     ]
    },
    {
     "name": "stdout",
     "output_type": "stream",
     "text": [
      "========================================================================================================\n",
      "../Data/Internet_bills_dialog/Images\\11.png\n"
     ]
    },
    {
     "name": "stderr",
     "output_type": "stream",
     "text": [
      "C:\\Users\\User\\AppData\\Local\\Temp\\ipykernel_30328\\2620588473.py:130: FutureWarning: The frame.append method is deprecated and will be removed from pandas in a future version. Use pandas.concat instead.\n",
      "  df = df.append({'image_path': image_path, 'date': billing_date, 'amount': total_charges}, ignore_index=True)\n"
     ]
    },
    {
     "name": "stdout",
     "output_type": "stream",
     "text": [
      "========================================================================================================\n",
      "../Data/Internet_bills_dialog/Images\\12.png\n",
      "Date not found:  Payment information\n",
      "\n",
      "Status\n",
      "Success\n",
      "\n",
      "Payment Method\n",
      "Credit Card\n",
      "\n",
      "========================================================================================================\n",
      "../Data/Internet_bills_dialog/Images\\2.png\n"
     ]
    },
    {
     "name": "stderr",
     "output_type": "stream",
     "text": [
      "C:\\Users\\User\\AppData\\Local\\Temp\\ipykernel_30328\\2620588473.py:130: FutureWarning: The frame.append method is deprecated and will be removed from pandas in a future version. Use pandas.concat instead.\n",
      "  df = df.append({'image_path': image_path, 'date': billing_date, 'amount': total_charges}, ignore_index=True)\n",
      "C:\\Users\\User\\AppData\\Local\\Temp\\ipykernel_30328\\2620588473.py:130: FutureWarning: The frame.append method is deprecated and will be removed from pandas in a future version. Use pandas.concat instead.\n",
      "  df = df.append({'image_path': image_path, 'date': billing_date, 'amount': total_charges}, ignore_index=True)\n"
     ]
    },
    {
     "name": "stdout",
     "output_type": "stream",
     "text": [
      "========================================================================================================\n",
      "../Data/Internet_bills_dialog/Images\\3.png\n"
     ]
    },
    {
     "name": "stderr",
     "output_type": "stream",
     "text": [
      "C:\\Users\\User\\AppData\\Local\\Temp\\ipykernel_30328\\2620588473.py:130: FutureWarning: The frame.append method is deprecated and will be removed from pandas in a future version. Use pandas.concat instead.\n",
      "  df = df.append({'image_path': image_path, 'date': billing_date, 'amount': total_charges}, ignore_index=True)\n"
     ]
    },
    {
     "name": "stdout",
     "output_type": "stream",
     "text": [
      "========================================================================================================\n",
      "../Data/Internet_bills_dialog/Images\\4.png\n"
     ]
    },
    {
     "name": "stderr",
     "output_type": "stream",
     "text": [
      "C:\\Users\\User\\AppData\\Local\\Temp\\ipykernel_30328\\2620588473.py:130: FutureWarning: The frame.append method is deprecated and will be removed from pandas in a future version. Use pandas.concat instead.\n",
      "  df = df.append({'image_path': image_path, 'date': billing_date, 'amount': total_charges}, ignore_index=True)\n"
     ]
    },
    {
     "name": "stdout",
     "output_type": "stream",
     "text": [
      "========================================================================================================\n",
      "../Data/Internet_bills_dialog/Images\\5.png\n"
     ]
    },
    {
     "name": "stderr",
     "output_type": "stream",
     "text": [
      "C:\\Users\\User\\AppData\\Local\\Temp\\ipykernel_30328\\2620588473.py:130: FutureWarning: The frame.append method is deprecated and will be removed from pandas in a future version. Use pandas.concat instead.\n",
      "  df = df.append({'image_path': image_path, 'date': billing_date, 'amount': total_charges}, ignore_index=True)\n"
     ]
    },
    {
     "name": "stdout",
     "output_type": "stream",
     "text": [
      "========================================================================================================\n",
      "../Data/Internet_bills_dialog/Images\\6.png\n"
     ]
    },
    {
     "name": "stderr",
     "output_type": "stream",
     "text": [
      "C:\\Users\\User\\AppData\\Local\\Temp\\ipykernel_30328\\2620588473.py:130: FutureWarning: The frame.append method is deprecated and will be removed from pandas in a future version. Use pandas.concat instead.\n",
      "  df = df.append({'image_path': image_path, 'date': billing_date, 'amount': total_charges}, ignore_index=True)\n"
     ]
    },
    {
     "name": "stdout",
     "output_type": "stream",
     "text": [
      "========================================================================================================\n",
      "../Data/Internet_bills_dialog/Images\\7.png\n"
     ]
    },
    {
     "name": "stderr",
     "output_type": "stream",
     "text": [
      "C:\\Users\\User\\AppData\\Local\\Temp\\ipykernel_30328\\2620588473.py:130: FutureWarning: The frame.append method is deprecated and will be removed from pandas in a future version. Use pandas.concat instead.\n",
      "  df = df.append({'image_path': image_path, 'date': billing_date, 'amount': total_charges}, ignore_index=True)\n"
     ]
    },
    {
     "name": "stdout",
     "output_type": "stream",
     "text": [
      "========================================================================================================\n",
      "../Data/Internet_bills_dialog/Images\\8.png\n"
     ]
    },
    {
     "name": "stderr",
     "output_type": "stream",
     "text": [
      "C:\\Users\\User\\AppData\\Local\\Temp\\ipykernel_30328\\2620588473.py:130: FutureWarning: The frame.append method is deprecated and will be removed from pandas in a future version. Use pandas.concat instead.\n",
      "  df = df.append({'image_path': image_path, 'date': billing_date, 'amount': total_charges}, ignore_index=True)\n"
     ]
    },
    {
     "name": "stdout",
     "output_type": "stream",
     "text": [
      "========================================================================================================\n",
      "../Data/Internet_bills_dialog/Images\\9.png\n",
      "Date not found:  Payment information\n",
      "\n",
      "Status\n",
      "Success\n",
      "\n",
      "Payment Method\n",
      "Credit Card\n",
      "\n",
      "========================================================================================================\n"
     ]
    },
    {
     "name": "stderr",
     "output_type": "stream",
     "text": [
      "C:\\Users\\User\\AppData\\Local\\Temp\\ipykernel_30328\\2620588473.py:130: FutureWarning: The frame.append method is deprecated and will be removed from pandas in a future version. Use pandas.concat instead.\n",
      "  df = df.append({'image_path': image_path, 'date': billing_date, 'amount': total_charges}, ignore_index=True)\n"
     ]
    }
   ],
   "source": [
    "# Create an empty DataFrame to store the data\n",
    "data = {'image_path': [], 'date': [], 'amount': []}\n",
    "df = pd.DataFrame(data)\n",
    "df\n",
    "\n",
    "# Replace 'your_folder_path' with the path to your folder containing images\n",
    "folder_path = '../Data/Internet_bills_dialog/Images'\n",
    "\n",
    "# Get a list of all files in the folder\n",
    "file_list = os.listdir(folder_path)\n",
    "\n",
    "# Filter the list to keep only image files (you can add more extensions if needed)\n",
    "image_extensions = ['.jpg', '.jpeg', '.png', '.gif', '.bmp']\n",
    "image_files = [f for f in file_list if any(f.lower().endswith(ext) for ext in image_extensions)]\n",
    "\n",
    "# Loop through the image files and open each one\n",
    "for image_file in image_files:\n",
    "    # Construct the full path to the image file\n",
    "    image_path = os.path.join(folder_path, image_file)\n",
    "    \n",
    "    # Open the image using PIL (Python Imaging Library)\n",
    "    try:\n",
    "        image = Image.open(image_path)\n",
    "        print(image_path)\n",
    "\n",
    "        # image.show()\n",
    "\n",
    "\n",
    "        image = image.filter(ImageFilter.EDGE_ENHANCE)\n",
    "\n",
    "                # Enhance the brightness, contrast, and saturation\n",
    "        enhancer = ImageEnhance.Brightness(image)\n",
    "        image = enhancer.enhance(1.2)  # Increase brightness by 20%\n",
    "\n",
    "        enhancer = ImageEnhance.Contrast(image)\n",
    "        image = enhancer.enhance(1.5)  # Increase contrast by 20%\n",
    "\n",
    "        enhancer = ImageEnhance.Color(image)\n",
    "        image = enhancer.enhance(1.2)  # Increase saturation by 20%\n",
    "\n",
    "        # show the image\n",
    "        # image.show()\n",
    "\n",
    "        # image = image.filter(ImageFilter.CONTOUR)\n",
    "\n",
    "\n",
    "        # image.show()\n",
    "\n",
    "\n",
    "        width, height = image.size\n",
    "\n",
    "\n",
    "        logo_box_coordinates = (44, 47, 196, 140)  \n",
    "        date_box_coordinates = (27, 284, 231, 517)\n",
    "        amount_box_coordinates = (296, 300, 772, 555) \n",
    "\n",
    "        logo_cropped_image = image.crop(logo_box_coordinates)\n",
    "        # logo_cropped_image = logo_cropped_image.filter(ImageFilter.EDGE_ENHANCE)\n",
    "    \n",
    "\n",
    "        date_cropped_image = image.crop(date_box_coordinates)\n",
    "        # date_cropped_image = date_cropped_image.filter(ImageFilter.EDGE_ENHANCE)\n",
    "\n",
    "\n",
    "        amount_cropped_image = image.crop(amount_box_coordinates)\n",
    "        # amount_cropped_image = amount_cropped_image.filter(ImageFilter.EDGE_ENHANCE)\n",
    "\n",
    "\n",
    "        # date_cropped_image.show()\n",
    "        # amount_cropped_image.show()\n",
    "\n",
    "        text_all = pytesseract.image_to_string(image)\n",
    "        text_logo = pytesseract.image_to_string(date_cropped_image)\n",
    "        text_date = pytesseract.image_to_string(date_cropped_image)\n",
    "        text_amount = pytesseract.image_to_string(amount_cropped_image)\n",
    "\n",
    "\n",
    "\n",
    "\n",
    "\n",
    "        # replace | and [ with space\n",
    "        # text_logo = text_logo.replace('|', '')\n",
    "        # text_logo = text_logo.replace('[', '')\n",
    "\n",
    "        text_date = text_date.replace('|', '')\n",
    "        text_date = text_date.replace('[', '')\n",
    "\n",
    "        text_amount = text_amount.replace('|', '')\n",
    "        text_amount = text_amount.replace('[', '')\n",
    "\n",
    "        # print(text_date)\n",
    "        # print(text_amount)\n",
    "\n",
    "        # print(\"========================================================================================================\")\n",
    "\n",
    "\n",
    "        # Define a regular expression pattern to match the billing date\n",
    "        billing_date_pattern = r'Date\\s+(\\d{4}-\\d{2}-\\d{2})'\n",
    "\n",
    "        # Search for the billing date using the pattern\n",
    "        billing_date_match = re.search(billing_date_pattern, text_date)\n",
    "\n",
    "        # Extract and print the billing date if found\n",
    "        if billing_date_match:\n",
    "            billing_date = billing_date_match.group(1)\n",
    "            # print(f\"Billing Date: {billing_date}\")\n",
    "        else:\n",
    "            print(\"Date not found: \" , text_date)\n",
    "\n",
    "\n",
    "\n",
    "        # Define a regular expression pattern to match the total charges for the period\n",
    "        total_charges_pattern = r'Total\\s+([\\d,.]+)'\n",
    "\n",
    "        # Search for the total charges using the pattern\n",
    "        total_charges_match = re.search(total_charges_pattern, text_amount)\n",
    "\n",
    "        # Extract and print the total charges if found\n",
    "        if total_charges_match:\n",
    "            total_charges = total_charges_match.group(1)\n",
    "            # Remove commas and convert to float\n",
    "            total_charges = float(total_charges.replace(',', ''))\n",
    "            # print(f\"Total Charges for the Period: {total_charges:.2f}\")\n",
    "        else:\n",
    "            print(\"Total not found: \" , text_amount)\n",
    "\n",
    "        # print(\"all:\" , text_all)\n",
    "\n",
    "\n",
    "        df = df.append({'image_path': image_path, 'date': billing_date, 'amount': total_charges}, ignore_index=True)\n",
    "\n",
    "\n",
    "        print(\"========================================================================================================\")\n",
    "    \n",
    "    except Exception as e:\n",
    "        print(f\"Error opening {image_file}: {str(e)}\")\n",
    "\n",
    "\n"
   ]
  },
  {
   "cell_type": "code",
   "execution_count": 17,
   "metadata": {},
   "outputs": [
    {
     "data": {
      "text/html": [
       "<div>\n",
       "<style scoped>\n",
       "    .dataframe tbody tr th:only-of-type {\n",
       "        vertical-align: middle;\n",
       "    }\n",
       "\n",
       "    .dataframe tbody tr th {\n",
       "        vertical-align: top;\n",
       "    }\n",
       "\n",
       "    .dataframe thead th {\n",
       "        text-align: right;\n",
       "    }\n",
       "</style>\n",
       "<table border=\"1\" class=\"dataframe\">\n",
       "  <thead>\n",
       "    <tr style=\"text-align: right;\">\n",
       "      <th></th>\n",
       "      <th>image_path</th>\n",
       "      <th>date</th>\n",
       "      <th>amount</th>\n",
       "    </tr>\n",
       "  </thead>\n",
       "  <tbody>\n",
       "    <tr>\n",
       "      <th>0</th>\n",
       "      <td>../Data/Internet_bills_dialog/Images\\1.png</td>\n",
       "      <td>2022-12-27</td>\n",
       "      <td>2890.44</td>\n",
       "    </tr>\n",
       "    <tr>\n",
       "      <th>1</th>\n",
       "      <td>../Data/Internet_bills_dialog/Images\\10.png</td>\n",
       "      <td>2023-01-04</td>\n",
       "      <td>2800.00</td>\n",
       "    </tr>\n",
       "    <tr>\n",
       "      <th>2</th>\n",
       "      <td>../Data/Internet_bills_dialog/Images\\11.png</td>\n",
       "      <td>2023-01-26</td>\n",
       "      <td>4200.00</td>\n",
       "    </tr>\n",
       "    <tr>\n",
       "      <th>3</th>\n",
       "      <td>../Data/Internet_bills_dialog/Images\\12.png</td>\n",
       "      <td>2023-01-26</td>\n",
       "      <td>4000.00</td>\n",
       "    </tr>\n",
       "    <tr>\n",
       "      <th>4</th>\n",
       "      <td>../Data/Internet_bills_dialog/Images\\2.png</td>\n",
       "      <td>2022-03-23</td>\n",
       "      <td>500.00</td>\n",
       "    </tr>\n",
       "    <tr>\n",
       "      <th>5</th>\n",
       "      <td>../Data/Internet_bills_dialog/Images\\3.png</td>\n",
       "      <td>2022-05-31</td>\n",
       "      <td>800.00</td>\n",
       "    </tr>\n",
       "    <tr>\n",
       "      <th>6</th>\n",
       "      <td>../Data/Internet_bills_dialog/Images\\4.png</td>\n",
       "      <td>2022-07-04</td>\n",
       "      <td>2226.56</td>\n",
       "    </tr>\n",
       "    <tr>\n",
       "      <th>7</th>\n",
       "      <td>../Data/Internet_bills_dialog/Images\\5.png</td>\n",
       "      <td>2022-07-15</td>\n",
       "      <td>800.00</td>\n",
       "    </tr>\n",
       "    <tr>\n",
       "      <th>8</th>\n",
       "      <td>../Data/Internet_bills_dialog/Images\\6.png</td>\n",
       "      <td>2022-08-07</td>\n",
       "      <td>800.00</td>\n",
       "    </tr>\n",
       "    <tr>\n",
       "      <th>9</th>\n",
       "      <td>../Data/Internet_bills_dialog/Images\\7.png</td>\n",
       "      <td>2022-08-28</td>\n",
       "      <td>4387.23</td>\n",
       "    </tr>\n",
       "    <tr>\n",
       "      <th>10</th>\n",
       "      <td>../Data/Internet_bills_dialog/Images\\8.png</td>\n",
       "      <td>2022-11-04</td>\n",
       "      <td>700.00</td>\n",
       "    </tr>\n",
       "    <tr>\n",
       "      <th>11</th>\n",
       "      <td>../Data/Internet_bills_dialog/Images\\9.png</td>\n",
       "      <td>2022-11-04</td>\n",
       "      <td>4200.00</td>\n",
       "    </tr>\n",
       "  </tbody>\n",
       "</table>\n",
       "</div>"
      ],
      "text/plain": [
       "                                     image_path        date   amount\n",
       "0    ../Data/Internet_bills_dialog/Images\\1.png  2022-12-27  2890.44\n",
       "1   ../Data/Internet_bills_dialog/Images\\10.png  2023-01-04  2800.00\n",
       "2   ../Data/Internet_bills_dialog/Images\\11.png  2023-01-26  4200.00\n",
       "3   ../Data/Internet_bills_dialog/Images\\12.png  2023-01-26  4000.00\n",
       "4    ../Data/Internet_bills_dialog/Images\\2.png  2022-03-23   500.00\n",
       "5    ../Data/Internet_bills_dialog/Images\\3.png  2022-05-31   800.00\n",
       "6    ../Data/Internet_bills_dialog/Images\\4.png  2022-07-04  2226.56\n",
       "7    ../Data/Internet_bills_dialog/Images\\5.png  2022-07-15   800.00\n",
       "8    ../Data/Internet_bills_dialog/Images\\6.png  2022-08-07   800.00\n",
       "9    ../Data/Internet_bills_dialog/Images\\7.png  2022-08-28  4387.23\n",
       "10   ../Data/Internet_bills_dialog/Images\\8.png  2022-11-04   700.00\n",
       "11   ../Data/Internet_bills_dialog/Images\\9.png  2022-11-04  4200.00"
      ]
     },
     "execution_count": 17,
     "metadata": {},
     "output_type": "execute_result"
    }
   ],
   "source": [
    "df"
   ]
  },
  {
   "cell_type": "code",
   "execution_count": 18,
   "metadata": {},
   "outputs": [],
   "source": [
    "# get year and month from date\n",
    "df['year'] = pd.DatetimeIndex(df['date']).year\n",
    "df['month'] = pd.DatetimeIndex(df['date']).month"
   ]
  },
  {
   "cell_type": "code",
   "execution_count": 19,
   "metadata": {},
   "outputs": [
    {
     "data": {
      "text/html": [
       "<div>\n",
       "<style scoped>\n",
       "    .dataframe tbody tr th:only-of-type {\n",
       "        vertical-align: middle;\n",
       "    }\n",
       "\n",
       "    .dataframe tbody tr th {\n",
       "        vertical-align: top;\n",
       "    }\n",
       "\n",
       "    .dataframe thead th {\n",
       "        text-align: right;\n",
       "    }\n",
       "</style>\n",
       "<table border=\"1\" class=\"dataframe\">\n",
       "  <thead>\n",
       "    <tr style=\"text-align: right;\">\n",
       "      <th></th>\n",
       "      <th>image_path</th>\n",
       "      <th>date</th>\n",
       "      <th>amount</th>\n",
       "      <th>year</th>\n",
       "      <th>month</th>\n",
       "    </tr>\n",
       "  </thead>\n",
       "  <tbody>\n",
       "    <tr>\n",
       "      <th>0</th>\n",
       "      <td>../Data/Internet_bills_dialog/Images\\1.png</td>\n",
       "      <td>2022-12-27</td>\n",
       "      <td>2890.44</td>\n",
       "      <td>2022</td>\n",
       "      <td>12</td>\n",
       "    </tr>\n",
       "    <tr>\n",
       "      <th>1</th>\n",
       "      <td>../Data/Internet_bills_dialog/Images\\10.png</td>\n",
       "      <td>2023-01-04</td>\n",
       "      <td>2800.00</td>\n",
       "      <td>2023</td>\n",
       "      <td>1</td>\n",
       "    </tr>\n",
       "    <tr>\n",
       "      <th>2</th>\n",
       "      <td>../Data/Internet_bills_dialog/Images\\11.png</td>\n",
       "      <td>2023-01-26</td>\n",
       "      <td>4200.00</td>\n",
       "      <td>2023</td>\n",
       "      <td>1</td>\n",
       "    </tr>\n",
       "    <tr>\n",
       "      <th>3</th>\n",
       "      <td>../Data/Internet_bills_dialog/Images\\12.png</td>\n",
       "      <td>2023-01-26</td>\n",
       "      <td>4000.00</td>\n",
       "      <td>2023</td>\n",
       "      <td>1</td>\n",
       "    </tr>\n",
       "    <tr>\n",
       "      <th>4</th>\n",
       "      <td>../Data/Internet_bills_dialog/Images\\2.png</td>\n",
       "      <td>2022-03-23</td>\n",
       "      <td>500.00</td>\n",
       "      <td>2022</td>\n",
       "      <td>3</td>\n",
       "    </tr>\n",
       "    <tr>\n",
       "      <th>5</th>\n",
       "      <td>../Data/Internet_bills_dialog/Images\\3.png</td>\n",
       "      <td>2022-05-31</td>\n",
       "      <td>800.00</td>\n",
       "      <td>2022</td>\n",
       "      <td>5</td>\n",
       "    </tr>\n",
       "    <tr>\n",
       "      <th>6</th>\n",
       "      <td>../Data/Internet_bills_dialog/Images\\4.png</td>\n",
       "      <td>2022-07-04</td>\n",
       "      <td>2226.56</td>\n",
       "      <td>2022</td>\n",
       "      <td>7</td>\n",
       "    </tr>\n",
       "    <tr>\n",
       "      <th>7</th>\n",
       "      <td>../Data/Internet_bills_dialog/Images\\5.png</td>\n",
       "      <td>2022-07-15</td>\n",
       "      <td>800.00</td>\n",
       "      <td>2022</td>\n",
       "      <td>7</td>\n",
       "    </tr>\n",
       "    <tr>\n",
       "      <th>8</th>\n",
       "      <td>../Data/Internet_bills_dialog/Images\\6.png</td>\n",
       "      <td>2022-08-07</td>\n",
       "      <td>800.00</td>\n",
       "      <td>2022</td>\n",
       "      <td>8</td>\n",
       "    </tr>\n",
       "    <tr>\n",
       "      <th>9</th>\n",
       "      <td>../Data/Internet_bills_dialog/Images\\7.png</td>\n",
       "      <td>2022-08-28</td>\n",
       "      <td>4387.23</td>\n",
       "      <td>2022</td>\n",
       "      <td>8</td>\n",
       "    </tr>\n",
       "    <tr>\n",
       "      <th>10</th>\n",
       "      <td>../Data/Internet_bills_dialog/Images\\8.png</td>\n",
       "      <td>2022-11-04</td>\n",
       "      <td>700.00</td>\n",
       "      <td>2022</td>\n",
       "      <td>11</td>\n",
       "    </tr>\n",
       "    <tr>\n",
       "      <th>11</th>\n",
       "      <td>../Data/Internet_bills_dialog/Images\\9.png</td>\n",
       "      <td>2022-11-04</td>\n",
       "      <td>4200.00</td>\n",
       "      <td>2022</td>\n",
       "      <td>11</td>\n",
       "    </tr>\n",
       "  </tbody>\n",
       "</table>\n",
       "</div>"
      ],
      "text/plain": [
       "                                     image_path        date   amount  year  \\\n",
       "0    ../Data/Internet_bills_dialog/Images\\1.png  2022-12-27  2890.44  2022   \n",
       "1   ../Data/Internet_bills_dialog/Images\\10.png  2023-01-04  2800.00  2023   \n",
       "2   ../Data/Internet_bills_dialog/Images\\11.png  2023-01-26  4200.00  2023   \n",
       "3   ../Data/Internet_bills_dialog/Images\\12.png  2023-01-26  4000.00  2023   \n",
       "4    ../Data/Internet_bills_dialog/Images\\2.png  2022-03-23   500.00  2022   \n",
       "5    ../Data/Internet_bills_dialog/Images\\3.png  2022-05-31   800.00  2022   \n",
       "6    ../Data/Internet_bills_dialog/Images\\4.png  2022-07-04  2226.56  2022   \n",
       "7    ../Data/Internet_bills_dialog/Images\\5.png  2022-07-15   800.00  2022   \n",
       "8    ../Data/Internet_bills_dialog/Images\\6.png  2022-08-07   800.00  2022   \n",
       "9    ../Data/Internet_bills_dialog/Images\\7.png  2022-08-28  4387.23  2022   \n",
       "10   ../Data/Internet_bills_dialog/Images\\8.png  2022-11-04   700.00  2022   \n",
       "11   ../Data/Internet_bills_dialog/Images\\9.png  2022-11-04  4200.00  2022   \n",
       "\n",
       "    month  \n",
       "0      12  \n",
       "1       1  \n",
       "2       1  \n",
       "3       1  \n",
       "4       3  \n",
       "5       5  \n",
       "6       7  \n",
       "7       7  \n",
       "8       8  \n",
       "9       8  \n",
       "10     11  \n",
       "11     11  "
      ]
     },
     "execution_count": 19,
     "metadata": {},
     "output_type": "execute_result"
    }
   ],
   "source": [
    "df"
   ]
  },
  {
   "cell_type": "code",
   "execution_count": 28,
   "metadata": {},
   "outputs": [],
   "source": [
    "image = Image.open('../Data/Internet_bills_dialog/Images/1.png')\n",
    "\n",
    "image = image.filter(ImageFilter.EDGE_ENHANCE)\n",
    "image.show()\n",
    "\n",
    "\n",
    "        # Enhance the brightness, contrast, and saturation\n",
    "enhancer = ImageEnhance.Brightness(image)\n",
    "image = enhancer.enhance(1.5)  # Increase brightness by 20%\n",
    "image.show()\n",
    "\n",
    "\n",
    "enhancer = ImageEnhance.Contrast(image)\n",
    "image = enhancer.enhance(1.5)  # Increase contrast by 20%\n",
    "image.show()\n",
    "\n",
    "\n",
    "enhancer = ImageEnhance.Color(image)\n",
    "image = enhancer.enhance(1.2)  # Increase saturation by 20%\n",
    "image.show()\n",
    "\n",
    "\n",
    "# enhancer = ImageEnhance.Sharpness(image)\n",
    "# image = enhancer.enhance(1.5)  # Increase sharpness by 50%\n",
    "# image.show()"
   ]
  },
  {
   "cell_type": "code",
   "execution_count": 29,
   "metadata": {},
   "outputs": [
    {
     "name": "stdout",
     "output_type": "stream",
     "text": [
      "The text contains 'Dialog' or 'myDialog'.\n"
     ]
    }
   ],
   "source": [
    "import re\n",
    "\n",
    "# Your input text\n",
    "text = \"This is a sample text with myDialog, SLT, and Hutch mentioned.\"\n",
    "\n",
    "# Initialize the isp variable to None\n",
    "isp = None\n",
    "\n",
    "# Check for \"Dialog\" or \"myDialog\"\n",
    "dialog_pattern = r'\\b(?:my)?dialog\\b'\n",
    "if re.search(dialog_pattern, text, re.IGNORECASE):\n",
    "    isp = \"Dialog\"\n",
    "\n",
    "# Check for \"SLT\" or \"Sri Lanka Telecom\"\n",
    "slt_pattern = r'\\bslt\\b|\\bsri\\s+lanka\\s+telecom\\b'\n",
    "if re.search(slt_pattern, text, re.IGNORECASE):\n",
    "    isp = \"SLT\"\n",
    "\n",
    "# Check for \"Hutch\"\n",
    "hutch_pattern = r'\\bhutch\\b'\n",
    "if re.search(hutch_pattern, text, re.IGNORECASE):\n",
    "    isp = \"Hutch\"\n",
    "\n",
    "# Check if any condition was matched\n",
    "if isp is not None:\n",
    "    print(f\"The ISP is: {isp}\")\n",
    "else:\n",
    "    print(\"No specific ISP detected.\")\n"
   ]
  },
  {
   "cell_type": "code",
   "execution_count": null,
   "metadata": {},
   "outputs": [],
   "source": []
  },
  {
   "cell_type": "code",
   "execution_count": null,
   "metadata": {},
   "outputs": [],
   "source": []
  }
 ],
 "metadata": {
  "kernelspec": {
   "display_name": "dl",
   "language": "python",
   "name": "python3"
  },
  "language_info": {
   "codemirror_mode": {
    "name": "ipython",
    "version": 3
   },
   "file_extension": ".py",
   "mimetype": "text/x-python",
   "name": "python",
   "nbconvert_exporter": "python",
   "pygments_lexer": "ipython3",
   "version": "3.8.1"
  },
  "orig_nbformat": 4
 },
 "nbformat": 4,
 "nbformat_minor": 2
}
