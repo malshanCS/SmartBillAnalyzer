{
 "cells": [
  {
   "cell_type": "code",
   "execution_count": 1,
   "id": "81fefa17",
   "metadata": {},
   "outputs": [],
   "source": [
    "import cv2 as cv\n",
    "import numpy as np\n",
    "import pandas as pd\n",
    "from PIL import Image\n",
    "import pytesseract\n",
    "import cv2\n",
    "import os\n",
    "import numpy as np\n",
    "import re \n",
    "# import moment\n",
    "from datetime import datetime\n",
    "import csv\n",
    "from pytesseract import Output"
   ]
  },
  {
   "cell_type": "code",
   "execution_count": 2,
   "id": "96bf20e8",
   "metadata": {},
   "outputs": [
    {
     "name": "stdout",
     "output_type": "stream",
     "text": [
      "Defaulting to user installation because normal site-packages is not writeable\n",
      "Requirement already satisfied: pytesseract in /home/thilakna/.local/lib/python3.10/site-packages (0.3.10)\n",
      "Requirement already satisfied: packaging>=21.3 in /home/thilakna/.local/lib/python3.10/site-packages (from pytesseract) (23.0)\n",
      "Requirement already satisfied: Pillow>=8.0.0 in /usr/lib/python3/dist-packages (from pytesseract) (9.0.1)\n"
     ]
    }
   ],
   "source": [
    "import sys\n",
    "!{sys.executable} -m pip install pytesseract\n"
   ]
  },
  {
   "cell_type": "code",
   "execution_count": 3,
   "id": "c8545810",
   "metadata": {},
   "outputs": [],
   "source": [
    "# method to get the text from image \n",
    "def extract_datetext(image):\n",
    "    \n",
    "    #save the gray image\n",
    "    filename = \"{}.png\".format(os.getpid())\n",
    "    cv2.imwrite(filename, image)\n",
    "\n",
    "    # load the image as a PIL/Pillow image, apply OCR\n",
    "    text = pytesseract.image_to_string(Image.open(filename))\n",
    "    text = text.replace('\\n', ' ').replace('\\r', '')\n",
    "    \n",
    "    # date extraction pattern\n",
    "    pat1 = r'(\\b(0?[1-9]|[12]\\d|30|31)[^\\w\\d\\r\\n\\s:](0?[1-9]|1[0-2])[^\\w\\d\\r\\n\\s:](\\d{4}|\\d{2})\\b)'\n",
    "    pat2 = r'(\\b(0?[1-9]|1[0-2])[^\\w\\d\\r\\n\\s:](0?[1-9]|[12]\\d|30|31)[^\\w\\d\\r\\n\\s:](\\d{4}|\\d{2})\\b)'\n",
    "    pat3 = r'(\\b(0?[1-9]|[12]\\d|30|31)[^\\w\\d\\r\\n\\s:](0?:Jan|Feb|Mar|Apr|May|Jun|Jul|Aug|Sep|Oct|Nov|Dec)[^\\w\\d\\r\\n\\s:](\\d{4}|\\d{2})\\b)'\n",
    "    pat4 = r'(\\b(0?Jan|Feb|Mar|Apr|May|Jun|Jul|Aug|Sep|Oct|Nov|Dec)[^\\w\\d\\r\\n:](0?[1-9]|[12]\\d|30|31)[^\\w\\d\\r\\n:](\\d{4}|\\d{2})\\b)'\n",
    "    pat5 = r'(\\b(\\d{4})[^\\w\\d\\r\\n\\s:](0?[1-9]|1[0-2])[^\\w\\d\\r\\n\\s:](0?[1-9]|[12]\\d|30|31)\\b)'\n",
    "\n",
    "    #combine all the five pattern\n",
    "    combined_pat = r'|'.join((pat1, pat2, pat3, pat4, pat5))\n",
    "    pattern = re.compile(combined_pat, re.IGNORECASE)\n",
    "    #get the date\n",
    "    extract_date = re.search(pattern,text)\n",
    "    if extract_date is not None:\n",
    "        date = extract_date.group()\n",
    "    else:\n",
    "        date = \"empty\"   \n",
    "    return date\n",
    "\n"
   ]
  },
  {
   "cell_type": "code",
   "execution_count": 4,
   "id": "90f0c23c",
   "metadata": {},
   "outputs": [],
   "source": [
    "def date_extractor(file_path):\n",
    "    image_file = set_image_dpi(file_path)\n",
    "    image = remove_noise_and_smooth(image_file)\n",
    "    date_text = extract_datetext(image)\n",
    "    if date_text == \"empty\":\n",
    "        image = using_hsv_extract(image_file)\n",
    "        date_text = extract_datetext(image)\n",
    "    \n",
    "    if date_text == \"empty\":\n",
    "        date_text = \"null\"\n",
    "    else:\n",
    "        date_text = moment.date(date_text).strftime('%Y-%m-%d')\n",
    "\n",
    "    #remove the temporary file \n",
    "    os.remove(image_file)    \n",
    "\n",
    "    return date_text\n"
   ]
  },
  {
   "cell_type": "code",
   "execution_count": 5,
   "id": "c863e431",
   "metadata": {},
   "outputs": [],
   "source": [
    "import cv2\n",
    "import pytesseract\n",
    "import re\n",
    "import numpy as np\n",
    "\n",
    "def extract_total_value(image_path):\n",
    "    try:\n",
    "        img = cv2.imread(image_path)\n",
    "        gray_image = cv2.cvtColor(img, cv2.COLOR_BGR2GRAY)\n",
    "        thresh_img = cv2.threshold(gray_image, 0, 255, cv2.THRESH_BINARY | cv2.THRESH_OTSU)[1]\n",
    "        custom_config = r'--oem 3 --psm 6'\n",
    "        ocr_output_details = pytesseract.image_to_data(thresh_img, output_type=pytesseract.Output.DICT, config=custom_config, lang='eng')\n",
    "\n",
    "        total_variations = [\"Total\", \"Total due\", \"Due\",\"TOTL\"]\n",
    "        total_index = None\n",
    "\n",
    "        for i in range(len(ocr_output_details['text']) - 1, -1, -1):\n",
    "            word = ocr_output_details['text'][i]\n",
    "            if any(variation in word for variation in total_variations):\n",
    "                total_index = i\n",
    "                break\n",
    "\n",
    "        if total_index is not None:\n",
    "            total_x = ocr_output_details['left'][total_index]\n",
    "            total_y = ocr_output_details['top'][total_index]\n",
    "            total_width = ocr_output_details['width'][total_index]\n",
    "            total_height = ocr_output_details['height'][total_index]\n",
    "            y_range = range(total_y - 10, total_y + total_height + 10)\n",
    "            selected_boxes = []\n",
    "\n",
    "            for i, word in enumerate(ocr_output_details['text']):\n",
    "                if any(char.isdigit() for char in word) and ocr_output_details['top'][i] in y_range:\n",
    "                    selected_boxes.append(i)\n",
    "\n",
    "            largest_box_index = None\n",
    "            largest_box_area = 0\n",
    "\n",
    "            for box_index in selected_boxes:\n",
    "                box_area = ocr_output_details['width'][box_index] * ocr_output_details['height'][box_index]\n",
    "                if box_area > largest_box_area:\n",
    "                    largest_box_area = box_area\n",
    "                    largest_box_index = box_index\n",
    "\n",
    "            if largest_box_index is not None:\n",
    "                x = ocr_output_details['left'][largest_box_index]\n",
    "                y = ocr_output_details['top'][largest_box_index]\n",
    "                w = ocr_output_details['width'][largest_box_index]\n",
    "                h = ocr_output_details['height'][largest_box_index]\n",
    "                cv2.rectangle(img, (x, y), (x + w, y + h), (0, 255, 0), 2)\n",
    "                box_text = ocr_output_details['text'][largest_box_index]\n",
    "                numerical_values = re.findall(r'\\d+\\.\\d+|\\d+', box_text)\n",
    "\n",
    "                if numerical_values:\n",
    "                    largest_value = max(float(val) for val in numerical_values)\n",
    "                    return largest_value\n",
    "                else:\n",
    "                    return np.nan\n",
    "            else:\n",
    "                return np.nan\n",
    "        else:\n",
    "            return np.nan\n",
    "\n",
    "    except Exception as e:\n",
    "        print(f\"Error processing {image_path}: {str(e)}\")\n",
    "        return np.nan\n"
   ]
  },
  {
   "cell_type": "code",
   "execution_count": 6,
   "id": "7f02a707",
   "metadata": {},
   "outputs": [
    {
     "name": "stdout",
     "output_type": "stream",
     "text": [
      "Current Working Directory: /home/thilakna/Desktop/SmartBillAnalyzer/code\n"
     ]
    }
   ],
   "source": [
    "current_directory = os.getcwd()\n",
    "print(\"Current Working Directory:\", current_directory)\n"
   ]
  },
  {
   "cell_type": "code",
   "execution_count": 8,
   "id": "6e069802",
   "metadata": {},
   "outputs": [],
   "source": [
    "# Replace 'your_folder_path' with the path to your folder containing images\n",
    "folder_path = '../Data/Background removed'\n",
    "\n",
    "# Get a list of all files in the folder\n",
    "file_list = os.listdir(folder_path)\n",
    "\n",
    "# Filter the list to keep only image files (you can add more extensions if needed)\n",
    "image_extensions = ['.jpg', '.jpeg', '.png', '.gif', '.bmp']\n",
    "image_files = [f for f in file_list if any(f.lower().endswith(ext) for ext in image_extensions)]\n",
    "\n"
   ]
  },
  {
   "cell_type": "code",
   "execution_count": 9,
   "id": "3b3d275f",
   "metadata": {},
   "outputs": [],
   "source": [
    "\n",
    "# Create an empty DataFrame\n",
    "columns = ['image_path', 'date', 'amount']\n",
    "df= pd.DataFrame(columns=columns)\n",
    "csv_filename = \"../files/Receipt_data.csv\"\n",
    "# Check if the CSV file exists, if not, create it\n",
    "if not os.path.exists(csv_filename):\n",
    "    with open(csv_filename, 'w', newline='') as csvfile:\n",
    "        csv_writer = csv.writer(csvfile)\n",
    "        csv_writer.writerow(columns)\n",
    "\n",
    "\n"
   ]
  },
  {
   "cell_type": "code",
   "execution_count": 10,
   "id": "86a0bee6",
   "metadata": {},
   "outputs": [],
   "source": [
    "for image_file in image_files:\n",
    "    # Construct the full path to the image file\n",
    "    image_path = os.path.join(folder_path, image_file)\n",
    "    img = cv2.imread(image_path)\n",
    "    try:\n",
    "        date = extract_datetext(img)\n",
    "        total = extract_total_value(image_path)\n",
    "        new_data = pd.DataFrame({'image_path': [image_path], 'date': [date], 'amount': [total]})\n",
    "        df = pd.concat([df, new_data], ignore_index=True)\n",
    "    except Exception as e:\n",
    "        print(e)\n",
    "        \n",
    "df.to_csv(csv_filename, index=False)"
   ]
  },
  {
   "cell_type": "code",
   "execution_count": null,
   "id": "76435dff",
   "metadata": {},
   "outputs": [],
   "source": []
  },
  {
   "cell_type": "code",
   "execution_count": null,
   "id": "a1bcbb23",
   "metadata": {},
   "outputs": [],
   "source": []
  }
 ],
 "metadata": {
  "kernelspec": {
   "display_name": "Python 3 (ipykernel)",
   "language": "python",
   "name": "python3"
  },
  "language_info": {
   "codemirror_mode": {
    "name": "ipython",
    "version": 3
   },
   "file_extension": ".py",
   "mimetype": "text/x-python",
   "name": "python",
   "nbconvert_exporter": "python",
   "pygments_lexer": "ipython3",
   "version": "3.10.12"
  }
 },
 "nbformat": 4,
 "nbformat_minor": 5
}
